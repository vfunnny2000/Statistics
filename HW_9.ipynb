{
  "nbformat": 4,
  "nbformat_minor": 0,
  "metadata": {
    "colab": {
      "provenance": [],
      "authorship_tag": "ABX9TyMxYeds4XPCvVtzy6ZJjeWm",
      "include_colab_link": true
    },
    "kernelspec": {
      "name": "python3",
      "display_name": "Python 3"
    },
    "language_info": {
      "name": "python"
    }
  },
  "cells": [
    {
      "cell_type": "markdown",
      "metadata": {
        "id": "view-in-github",
        "colab_type": "text"
      },
      "source": [
        "<a href=\"https://colab.research.google.com/github/vfunnny2000/Statistics/blob/main/HW_9.ipynb\" target=\"_parent\"><img src=\"https://colab.research.google.com/assets/colab-badge.svg\" alt=\"Open In Colab\"/></a>"
      ]
    },
    {
      "cell_type": "markdown",
      "source": [
        "**1.** Даны значения величины заработной платы заемщиков банка (zp) и значения их поведенческого кредитного скоринга (ks): zp = [35, 45, 190, 200, 40, 70, 54, 150, 120, 110], ks = [401, 574, 874, 919, 459, 739, 653, 902, 746, 832]. Используя математические операции, посчитать коэффициенты линейной регрессии, приняв за X заработную плату (то есть, zp - признак), а за y - значения скорингового балла (то есть, ks - целевая переменная). Произвести расчет как с использованием intercept, так и без."
      ],
      "metadata": {
        "id": "sStHM2qxBtCy"
      }
    },
    {
      "cell_type": "code",
      "source": [
        "import numpy as np\n",
        "import pandas as pd\n",
        "import matplotlib.pyplot as plt\n",
        "\n",
        "%matplotlib inline"
      ],
      "metadata": {
        "id": "aNr74oHP74Wh"
      },
      "execution_count": 39,
      "outputs": []
    },
    {
      "cell_type": "code",
      "source": [
        "zp = np.array([35, 45, 190, 200, 40, 70, 54, 150, 120, 110])\n",
        "ks = np.array([401, 574, 874, 919, 459, 739, 653, 902, 746, 832])"
      ],
      "metadata": {
        "id": "gYsJ0Pic8EWK"
      },
      "execution_count": 40,
      "outputs": []
    },
    {
      "cell_type": "code",
      "source": [
        "plt.scatter(zp,ks)\n",
        "plt.xlabel('Величина заработной платы')\n",
        "plt.ylabel('Поведенческий кредитный скоринг', rotation=90)\n",
        "plt.show()"
      ],
      "metadata": {
        "colab": {
          "base_uri": "https://localhost:8080/",
          "height": 279
        },
        "id": "ov3pcdOR8LmI",
        "outputId": "b00cbd3a-4311-4d77-ccb2-d9e69e1a7d71"
      },
      "execution_count": 41,
      "outputs": [
        {
          "output_type": "display_data",
          "data": {
            "text/plain": [
              "<Figure size 432x288 with 1 Axes>"
            ],
            "image/png": "[encoded data removed]"
          },
          "metadata": {
            "needs_background": "light"
          }
        }
      ]
    },
    {
      "cell_type": "markdown",
      "source": [
        "По графику можно предположить о наличии некоей линейной взаимосвязи между зависимой и независимой переменными,\n",
        "т.е. связь между ними можно описать некоторой линейной функцией, вида:\n",
        "\\begin{align}\\displaystyle ks=a+b\\cdot zp\\end{align}\n",
        "Найдем коэффициент b по формуле:\n",
        "\\begin{align}\\displaystyle b=\\frac{\\bar{xy}-\\bar x\\cdot\\bar y}{\\bar{x^2}-{\\bar x}^2}\\end{align}\n"
      ],
      "metadata": {
        "id": "nptpo55W8SoR"
      }
    },
    {
      "cell_type": "code",
      "source": [
        "b=(np.mean(zp * ks) - np.mean(zp) * np.mean(ks)) / (np.mean(zp**2) - np.mean(zp) ** 2)\n",
        "b"
      ],
      "metadata": {
        "colab": {
          "base_uri": "https://localhost:8080/"
        },
        "id": "TtWtBac28z4x",
        "outputId": "b2b144a1-8a56-4b0a-dcac-3e55502ac8f1"
      },
      "execution_count": 42,
      "outputs": [
        {
          "output_type": "execute_result",
          "data": {
            "text/plain": [
              "2.620538882402765"
            ]
          },
          "metadata": {},
          "execution_count": 42
        }
      ]
    },
    {
      "cell_type": "markdown",
      "source": [
        "Найдем величину интерсепта, которая показывает чему будет равна зависимая переменная, если независимая равна 0. Расчитаем интерсепт по формуле:\\begin{align}a=\\bar y-b\\cdot\\bar x=\\bar{ks}-b\\cdot\\bar{zp}\\end{align}"
      ],
      "metadata": {
        "id": "YH34rBN--z52"
      }
    },
    {
      "cell_type": "code",
      "source": [
        "a=np.mean(ks)-b*np.mean(zp)\n",
        "a"
      ],
      "metadata": {
        "colab": {
          "base_uri": "https://localhost:8080/"
        },
        "id": "S8-0JuieAd0U",
        "outputId": "db07c3ae-5137-4b08-c10f-d09d5de70841"
      },
      "execution_count": 43,
      "outputs": [
        {
          "output_type": "execute_result",
          "data": {
            "text/plain": [
              "444.1773573243596"
            ]
          },
          "metadata": {},
          "execution_count": 43
        }
      ]
    },
    {
      "cell_type": "markdown",
      "source": [
        "линейную взаимосвязь между заработной платой и кредитным скорингом можно описать функцией:\\begin{align}ks=444.18+2.62\\cdot zp\\end{align}"
      ],
      "metadata": {
        "id": "_j4qyGBXAisn"
      }
    },
    {
      "cell_type": "code",
      "source": [
        "plt.scatter(zp,ks)\n",
        "plt.plot(zp, 444.18+2.62*zp, c='r', label=r'$ks=444.18+2.62\\cdot zp$')\n",
        "plt.legend()\n",
        "plt.xlabel('Величина заработной платы')\n",
        "plt.ylabel('Поведенческий кредитный скоринг', rotation=90)\n",
        "plt.show()"
      ],
      "metadata": {
        "colab": {
          "base_uri": "https://localhost:8080/",
          "height": 279
        },
        "id": "XqF9Nb2pAxpa",
        "outputId": "e2a5973d-c731-4268-a598-a7aac6cc94c2"
      },
      "execution_count": 44,
      "outputs": [
        {
          "output_type": "display_data",
          "data": {
            "text/plain": [
              "<Figure size 432x288 with 1 Axes>"
            ],
            "image/png": "[encoded data removed]"
          },
          "metadata": {
            "needs_background": "light"
          }
        }
      ]
    },
    {
      "cell_type": "markdown",
      "source": [
        "полученная функция описывает линейную взаимосвязь между величиной заработной платы, и кредитного скоринга."
      ],
      "metadata": {
        "id": "veKP2MSbA5hK"
      }
    },
    {
      "cell_type": "markdown",
      "source": [
        "Так же коэффициенты a и b  линейной регрессии можно расчитать с помощью матричного метода используя формулу: \\begin{align}\\displaystyle\\begin{pmatrix}y_1\\\\y_2\\\\y_3\\\\\\dots\\\\y_n\\end{pmatrix}=\\begin{pmatrix}1\\qquad x_1\\\\1\\qquad x_2\\\\1\\qquad x_3\\\\\\dots\\qquad \\dots\\\\1\\qquad x_n\\end{pmatrix}\\cdot\\begin{pmatrix}a\\\\b\\end{pmatrix}\\end{align}\n",
        "Эту формулу удобно использовать при рассматривании многомерных линейных регрессий, т.е. когда рассматриаются зависимости более чем с 2 признаками. Тогда вектор коэффициентов линейной регрессии \\begin{align}\\hat B=\\begin{pmatrix}a\\\\b\\end{pmatrix}\\text{ (для нашего примера)}\\end{align}находится по общей формуле:\\begin{align}\\hat B=\\left(X^{T}\\cdot X\\right)^{-1}\\cdot X^{T}\\cdot Y\\end{align}"
      ],
      "metadata": {
        "id": "Q8kmVOodNaai"
      }
    },
    {
      "cell_type": "code",
      "source": [
        "ks=ks.reshape((-1,1))\n",
        "ks"
      ],
      "metadata": {
        "colab": {
          "base_uri": "https://localhost:8080/"
        },
        "id": "8vowl15JOEzC",
        "outputId": "39daf5c8-ac7a-4d19-c55e-8d8cd763d934"
      },
      "execution_count": 45,
      "outputs": [
        {
          "output_type": "execute_result",
          "data": {
            "text/plain": [
              "array([[401],\n",
              "       [574],\n",
              "       [874],\n",
              "       [919],\n",
              "       [459],\n",
              "       [739],\n",
              "       [653],\n",
              "       [902],\n",
              "       [746],\n",
              "       [832]])"
            ]
          },
          "metadata": {},
          "execution_count": 45
        }
      ]
    },
    {
      "cell_type": "code",
      "source": [
        "zp=zp.reshape((-1,1))\n",
        "zp=np.hstack([np.ones((len(zp),1)),zp])\n",
        "zp"
      ],
      "metadata": {
        "colab": {
          "base_uri": "https://localhost:8080/"
        },
        "id": "NqFFptWROJ0G",
        "outputId": "718e47da-35ae-4004-9392-1f8ffc1019b4"
      },
      "execution_count": 46,
      "outputs": [
        {
          "output_type": "execute_result",
          "data": {
            "text/plain": [
              "array([[  1.,  35.],\n",
              "       [  1.,  45.],\n",
              "       [  1., 190.],\n",
              "       [  1., 200.],\n",
              "       [  1.,  40.],\n",
              "       [  1.,  70.],\n",
              "       [  1.,  54.],\n",
              "       [  1., 150.],\n",
              "       [  1., 120.],\n",
              "       [  1., 110.]])"
            ]
          },
          "metadata": {},
          "execution_count": 46
        }
      ]
    },
    {
      "cell_type": "code",
      "source": [
        "B=np.dot(np.linalg.inv(np.dot(zp.T,zp)),np.dot(zp.T,ks))\n",
        "B"
      ],
      "metadata": {
        "colab": {
          "base_uri": "https://localhost:8080/"
        },
        "id": "8-QFSIdJkrk3",
        "outputId": "13b3b797-0ada-4b90-c869-e88de86ea0cc"
      },
      "execution_count": 47,
      "outputs": [
        {
          "output_type": "execute_result",
          "data": {
            "text/plain": [
              "array([[444.17735732],\n",
              "       [  2.62053888]])"
            ]
          },
          "metadata": {},
          "execution_count": 47
        }
      ]
    },
    {
      "cell_type": "markdown",
      "source": [
        "можно пренебречь величиной интерсепта, и тогда линейная взвимосвязь переменных будет описываться функцией вида: \\begin{align}y=b\\cdot x\\end{align}\n",
        "В этом случае, величина коэффициена b так же расчитывается матричным методом, из формулы:\\begin{align}\\displaystyle\\begin{pmatrix}y_1\\\\y_2\\\\y_3\\\\\\dots\\\\y_n\\end{pmatrix}=\\begin{pmatrix}x_1\\\\x_2\\\\x_3\\\\\\dots\\\\x_n\\end{pmatrix}\\cdot\\begin{pmatrix}b\\end{pmatrix}\\end{align}"
      ],
      "metadata": {
        "id": "-c4VktMWlzHc"
      }
    },
    {
      "cell_type": "code",
      "source": [
        "\n",
        "zp = np.array([35, 45, 190, 200, 40, 70, 54, 150, 120, 110])\n",
        "ks = np.array([401, 574, 874, 919, 459, 739, 653, 902, 746, 832])"
      ],
      "metadata": {
        "id": "PdfWaP_wlqPO"
      },
      "execution_count": 48,
      "outputs": []
    },
    {
      "cell_type": "code",
      "source": [
        "ks=ks.reshape((-1,1))\n",
        "ks"
      ],
      "metadata": {
        "colab": {
          "base_uri": "https://localhost:8080/"
        },
        "id": "RnfP05kgmb1u",
        "outputId": "cbbad595-f737-4c15-b6a3-8c52ecba5405"
      },
      "execution_count": 49,
      "outputs": [
        {
          "output_type": "execute_result",
          "data": {
            "text/plain": [
              "array([[401],\n",
              "       [574],\n",
              "       [874],\n",
              "       [919],\n",
              "       [459],\n",
              "       [739],\n",
              "       [653],\n",
              "       [902],\n",
              "       [746],\n",
              "       [832]])"
            ]
          },
          "metadata": {},
          "execution_count": 49
        }
      ]
    },
    {
      "cell_type": "code",
      "source": [
        "zp=zp.reshape((-1,1))\n",
        "zp"
      ],
      "metadata": {
        "colab": {
          "base_uri": "https://localhost:8080/"
        },
        "id": "HbJcvbdomgZo",
        "outputId": "52a497d1-c442-4c24-e06c-18a3147158f4"
      },
      "execution_count": 50,
      "outputs": [
        {
          "output_type": "execute_result",
          "data": {
            "text/plain": [
              "array([[ 35],\n",
              "       [ 45],\n",
              "       [190],\n",
              "       [200],\n",
              "       [ 40],\n",
              "       [ 70],\n",
              "       [ 54],\n",
              "       [150],\n",
              "       [120],\n",
              "       [110]])"
            ]
          },
          "metadata": {},
          "execution_count": 50
        }
      ]
    },
    {
      "cell_type": "code",
      "source": [
        "B=np.dot(np.linalg.inv(np.dot(zp.T,zp)),np.dot(zp.T,ks))\n",
        "B"
      ],
      "metadata": {
        "colab": {
          "base_uri": "https://localhost:8080/"
        },
        "id": "Cl0ws1WAmleZ",
        "outputId": "7519bd26-79fc-4b84-d5b2-2dfa68e7e253"
      },
      "execution_count": 51,
      "outputs": [
        {
          "output_type": "execute_result",
          "data": {
            "text/plain": [
              "array([[5.88982042]])"
            ]
          },
          "metadata": {},
          "execution_count": 51
        }
      ]
    },
    {
      "cell_type": "code",
      "source": [
        "plt.scatter(zp,ks)\n",
        "plt.plot(zp, 444.18+2.62*zp, c='r', label=r'$ks=444.18+2.62\\cdot zp$')\n",
        "plt.plot(zp, B*zp, c='g', label=r'$ks=5.89\\cdot zp$')\n",
        "plt.legend()\n",
        "plt.xlabel('Величина заработной платы')\n",
        "plt.ylabel('Поведенческий кредитный скоринг', rotation=90)\n",
        "plt.show()"
      ],
      "metadata": {
        "colab": {
          "base_uri": "https://localhost:8080/",
          "height": 279
        },
        "id": "IWamyrwZlGsb",
        "outputId": "c1d6ee14-fcb6-4b56-bcc2-ee37d215f918"
      },
      "execution_count": 52,
      "outputs": [
        {
          "output_type": "display_data",
          "data": {
            "text/plain": [
              "<Figure size 432x288 with 1 Axes>"
            ],
            "image/png": "[encoded data removed]"
          },
          "metadata": {
            "needs_background": "light"
          }
        }
      ]
    },
    {
      "cell_type": "markdown",
      "source": [
        "**2.** Посчитать коэффициент линейной регрессии при заработной плате (zp), используя градиентный спуск (без intercept)."
      ],
      "metadata": {
        "id": "tLvnIp0dm-d-"
      }
    },
    {
      "cell_type": "markdown",
      "source": [
        "В качестве функции потерь выберем среднеквадратичную функцию:\\begin{align}\\displaystyle MSE=\\frac{1}{n}\\sum^{n}_{i=1}(\\hat y_i-y_i)^2\\end{align}которая будет показывать, насколько далеко истинные значения зависимого признака будут находиться от линии регресии(расчетных значений)"
      ],
      "metadata": {
        "id": "iuMiNhP0nK-r"
      }
    },
    {
      "cell_type": "code",
      "source": [
        "def _mse(b, x, y):\n",
        "    return np.sum((b*x-y)**2)/len(x)"
      ],
      "metadata": {
        "id": "aZ9N0WvlnZuA"
      },
      "execution_count": 53,
      "outputs": []
    },
    {
      "cell_type": "markdown",
      "source": [
        "Посчитаем значение для вычесленного коэффициента b = 2.62 (см выше)"
      ],
      "metadata": {
        "id": "oxa1yTxuxMhw"
      }
    },
    {
      "cell_type": "code",
      "source": [
        "zp = np.array([35, 45, 190, 200, 40, 70, 54, 150, 120, 110])\n",
        "ks = np.array([401, 574, 874, 919, 459, 739, 653, 902, 746, 832])"
      ],
      "metadata": {
        "id": "tqltUPY_xSoM"
      },
      "execution_count": 54,
      "outputs": []
    },
    {
      "cell_type": "code",
      "source": [
        "_mse(2.62, zp, ks)"
      ],
      "metadata": {
        "colab": {
          "base_uri": "https://localhost:8080/"
        },
        "id": "_mfrYBX9xTsl",
        "outputId": "faf3da32-ae8d-48e6-b845-f0c1e29590ec"
      },
      "execution_count": 55,
      "outputs": [
        {
          "output_type": "execute_result",
          "data": {
            "text/plain": [
              "203812.48504"
            ]
          },
          "metadata": {},
          "execution_count": 55
        }
      ]
    },
    {
      "cell_type": "markdown",
      "source": [
        "Теперь попробуем подобрать такое значение коэффициента b, при котором MSE->0 используя свойства производной.\n",
        "Для этого вычислим производную нашей функции потерь:"
      ],
      "metadata": {
        "id": "At6o4lAixfFO"
      }
    },
    {
      "cell_type": "code",
      "source": [
        "def _mse_p(b,x,y):\n",
        "    return (2/len(x))*np.sum((b*x-y)*x)"
      ],
      "metadata": {
        "id": "o62wkkt5xs79"
      },
      "execution_count": 56,
      "outputs": []
    },
    {
      "cell_type": "markdown",
      "source": [
        "введем параметр - скорость обучения, c помощью которого будем регулировать скорость подбора коэффициента b"
      ],
      "metadata": {
        "id": "XYlzuV5dxwVG"
      }
    },
    {
      "cell_type": "code",
      "source": [
        "alpha=1e-06"
      ],
      "metadata": {
        "id": "iK3wnLPYxzu9"
      },
      "execution_count": 57,
      "outputs": []
    },
    {
      "cell_type": "code",
      "source": [
        "b=0.1\n",
        "mse_min=_mse(b,zp,ks)\n",
        "i_min=1\n",
        "b_min=b\n",
        "for i in range(10000):\n",
        "    b-=alpha*_mse_p(b,zp,ks)\n",
        "    if i%100==0:\n",
        "        print(f'Итерация #{i}, b={b}, mse={_mse(b, zp,ks)}')\n",
        "    if _mse(b,zp,ks)>mse_min:\n",
        "        print(f'Итерация #{i_min}, b={b_min}, mse={mse_min},\\nДостигнут минимум.')\n",
        "        break\n",
        "    else:\n",
        "        mse_min=_mse(b,zp,ks)\n",
        "        i_min=i\n",
        "        b_min=b"
      ],
      "metadata": {
        "colab": {
          "base_uri": "https://localhost:8080/"
        },
        "id": "Lm1ZWSG7x02x",
        "outputId": "1d40a9d8-1675-460c-856f-31765124a797"
      },
      "execution_count": 58,
      "outputs": [
        {
          "output_type": "stream",
          "name": "stdout",
          "text": [
            "Итерация #0, b=0.25952808000000005, mse=493237.7212546963\n",
            "Итерация #100, b=5.54537842245223, mse=58151.31823171113\n",
            "Итерация #200, b=5.868748638669329, mse=56522.97550129376\n",
            "Итерация #300, b=5.888531320728348, mse=56516.88130936019\n",
            "Итерация #400, b=5.8897415574471985, mse=56516.85850140053\n",
            "Итерация #500, b=5.889815595583751, mse=56516.858416040064\n",
            "Итерация #600, b=5.889820124983314, mse=56516.85841572062\n",
            "Итерация #628, b=5.889820285147628, mse=56516.85841571966,\n",
            "Достигнут минимум.\n"
          ]
        }
      ]
    },
    {
      "cell_type": "markdown",
      "source": [
        "**3.** Произвести вычисления как в пункте 2, но с вычислением intercept. Учесть, что изменение коэффициентов должно производиться\n",
        "на каждом шаге одновременно (то есть изменение одного коэффициента не должно влиять на изменение другого во время одной итерации)."
      ],
      "metadata": {
        "id": "sG-5islLx7BX"
      }
    },
    {
      "cell_type": "markdown",
      "source": [
        "Функция потерь:"
      ],
      "metadata": {
        "id": "EFGRcFQSyD3p"
      }
    },
    {
      "cell_type": "code",
      "source": [
        "def _mse_ab(a,b, x, y):\n",
        "    return np.sum(((a+b*x)-y)**2)/len(x)"
      ],
      "metadata": {
        "id": "yZoGG9-XyE5p"
      },
      "execution_count": 59,
      "outputs": []
    },
    {
      "cell_type": "markdown",
      "source": [
        "Частная производная функции потерь по a:"
      ],
      "metadata": {
        "id": "Zo-Lshj0yJ62"
      }
    },
    {
      "cell_type": "code",
      "source": [
        "def _mse_pa(a,b,x,y): \n",
        "    return 2*np.sum((a+b*x)-y)/len(x)"
      ],
      "metadata": {
        "id": "6ELE0RvqyL15"
      },
      "execution_count": 60,
      "outputs": []
    },
    {
      "cell_type": "markdown",
      "source": [
        "Частная производная функции потерь по b:"
      ],
      "metadata": {
        "id": "HBZZwTOuyRaA"
      }
    },
    {
      "cell_type": "code",
      "source": [
        "def _mse_pb(a,b,x,y):\n",
        "    return 2*np.sum(((a+b*x)-y)*x)/len(x)"
      ],
      "metadata": {
        "id": "dRaIZVlryTD5"
      },
      "execution_count": 61,
      "outputs": []
    },
    {
      "cell_type": "markdown",
      "source": [
        "Скорость обучения:"
      ],
      "metadata": {
        "id": "k3UFnLQYyZfR"
      }
    },
    {
      "cell_type": "code",
      "source": [
        "alpha=5e-05"
      ],
      "metadata": {
        "id": "51iU4sAFyaRR"
      },
      "execution_count": 62,
      "outputs": []
    },
    {
      "cell_type": "code",
      "source": [
        "b=0.1\n",
        "a=0.1\n",
        "mseab_min=_mse_ab(a,b,zp,ks)\n",
        "i_min=1\n",
        "b_min=b\n",
        "a_min=a\n",
        "   \n",
        "for i in range(1000000):\n",
        "    a-=alpha*_mse_pa(a,b,zp,ks)\n",
        "    b-=alpha*_mse_pb(a,b,zp,ks)\n",
        "    if i%50000==0:\n",
        "        print(f'Итерация #{i}, a={a}, b={b}, mse={_mse_ab(a, b, zp,ks)}')\n",
        "    if _mse_ab(a, b,zp,ks)>mseab_min:\n",
        "        print(f'Итерация #{i_min}, a={a_min}, b={b_min}, mse={mseab_min},\\nДостигнут минимум.')\n",
        "        break\n",
        "    else:\n",
        "        mseab_min=_mse_ab(a, b,zp,ks)\n",
        "        i_min=i\n",
        "        b_min=b\n",
        "        a_min=a\n",
        "print(f'a={a_min}\\nb={b_min}')"
      ],
      "metadata": {
        "colab": {
          "base_uri": "https://localhost:8080/"
        },
        "id": "DTDRqDIFyfe2",
        "outputId": "2791fcc3-7063-4301-d211-14a19660b1c0"
      },
      "execution_count": 63,
      "outputs": [
        {
          "output_type": "stream",
          "name": "stdout",
          "text": [
            "Итерация #0, a=0.169966, b=8.07468054476, mse=122318.06397097567\n",
            "Итерация #50000, a=319.27767648420047, b=3.5398324356503275, mse=10427.569111705801\n",
            "Итерация #100000, a=409.0442373734796, b=2.879127619051743, mse=6783.521961452364\n",
            "Итерация #150000, a=434.29473705519484, b=2.693277491833349, mse=6495.188684804794\n",
            "Итерация #200000, a=441.3974680483413, b=2.6409995775222037, mse=6472.374468908443\n",
            "Итерация #250000, a=443.39540029510493, b=2.62629428586797, mse=6470.569306309746\n",
            "Итерация #300000, a=443.95740007610897, b=2.622157823932053, mse=6470.426473787141\n",
            "Итерация #350000, a=444.1154853937451, b=2.6209942756156086, mse=6470.415172240385\n",
            "Итерация #400000, a=444.159953325044, b=2.6206669802831115, mse=6470.414278011555\n",
            "Итерация #450000, a=444.1724617410292, b=2.6205749151465225, mse=6470.414207256183\n",
            "Итерация #500000, a=444.1759802422447, b=2.6205490180788695, mse=6470.414201657699\n",
            "Итерация #520164, a=444.17653163778414, b=2.62054495966686, mse=6470.414201349592,\n",
            "Достигнут минимум.\n",
            "a=444.17653163778414\n",
            "b=2.62054495966686\n"
          ]
        }
      ]
    },
    {
      "cell_type": "code",
      "source": [
        "plt.scatter(zp,ks)\n",
        "plt.plot(zp,a_min+b_min*zp, c='r', label=r'$ks=444.17653163778414+2.62054495966686\\cdot zp$')\n",
        "plt.legend()\n",
        "plt.xlabel('Величина заработной платы')\n",
        "plt.ylabel('Поведенческий кредитный скоринг', rotation=90)\n",
        "plt.show()"
      ],
      "metadata": {
        "colab": {
          "base_uri": "https://localhost:8080/",
          "height": 279
        },
        "id": "YVydcIezysA2",
        "outputId": "35001a59-78d3-4941-dbba-054367113f8b"
      },
      "execution_count": 64,
      "outputs": [
        {
          "output_type": "display_data",
          "data": {
            "text/plain": [
              "<Figure size 432x288 with 1 Axes>"
            ],
            "image/png": "[encoded data removed]"
          },
          "metadata": {
            "needs_background": "light"
          }
        }
      ]
    }
  ]
}