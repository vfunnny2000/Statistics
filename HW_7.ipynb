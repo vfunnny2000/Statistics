{
  "nbformat": 4,
  "nbformat_minor": 0,
  "metadata": {
    "colab": {
      "provenance": [],
      "authorship_tag": "ABX9TyNJFk1OiFjncpZqrMcG72Mw",
      "include_colab_link": true
    },
    "kernelspec": {
      "name": "python3",
      "display_name": "Python 3"
    },
    "language_info": {
      "name": "python"
    }
  },
  "cells": [
    {
      "cell_type": "markdown",
      "metadata": {
        "id": "view-in-github",
        "colab_type": "text"
      },
      "source": [
        "<a href=\"https://colab.research.google.com/github/vfunnny2000/Statistics/blob/main/HW_7.ipynb\" target=\"_parent\"><img src=\"https://colab.research.google.com/assets/colab-badge.svg\" alt=\"Open In Colab\"/></a>"
      ]
    },
    {
      "cell_type": "code",
      "execution_count": 3,
      "metadata": {
        "id": "g13Pt9-_o4-Y"
      },
      "outputs": [],
      "source": [
        "import numpy as np\n",
        "import scipy.stats as stats"
      ]
    },
    {
      "cell_type": "markdown",
      "source": [
        "**1.** Даны две независимые выборки. Не соблюдается условие нормальности\n",
        "x1 380,420, 290\n",
        "y1 140,360,200,900\n",
        "Сделайте вывод по результатам, полученным с помощью функции"
      ],
      "metadata": {
        "id": "7dDOy3j1pAuF"
      }
    },
    {
      "cell_type": "code",
      "source": [
        "x1=np.array([380,420,290])\n",
        "y1=np.array([140,360,200,900])\n",
        "alpha=0.05\n",
        "stats.mannwhitneyu(x1, y1)"
      ],
      "metadata": {
        "colab": {
          "base_uri": "https://localhost:8080/"
        },
        "id": "rUBHHD3WpK8m",
        "outputId": "a86da768-3905-430f-ac99-8b99072fff48"
      },
      "execution_count": 4,
      "outputs": [
        {
          "output_type": "execute_result",
          "data": {
            "text/plain": [
              "MannwhitneyuResult(statistic=8.0, pvalue=0.6285714285714286)"
            ]
          },
          "metadata": {},
          "execution_count": 4
        }
      ]
    },
    {
      "cell_type": "markdown",
      "source": [
        "p-value > 0.05 статистически значимых различий нет"
      ],
      "metadata": {
        "id": "rqDTqwNRpYqg"
      }
    },
    {
      "cell_type": "markdown",
      "source": [
        "**2.** Исследовалось влияние препарата на уровень давления пациентов. Сначала измерялось давление до приема препарата, потом через 10 минут и через 30 минут.\n",
        "\n",
        "Есть ли статистически значимые различия?\n",
        "1е измерение до приема препарата: 150, 160, 165, 145, 155\n",
        "2е измерение через 10 минут: 140, 155, 150, 130, 135\n",
        "3е измерение через 30 минут: 130, 130, 120, 130, 125"
      ],
      "metadata": {
        "id": "-Esrd2t6psP5"
      }
    },
    {
      "cell_type": "code",
      "source": [
        "x1=np.array([150, 160, 165, 145, 155])\n",
        "x2=np.array([140, 155, 150, 130, 135])\n",
        "x3=np.array([130, 130, 120, 130, 125])\n",
        "alpha=0.05\n",
        "stats.friedmanchisquare(x1, x2, x3)\n",
        "     "
      ],
      "metadata": {
        "colab": {
          "base_uri": "https://localhost:8080/"
        },
        "id": "Vpo2ykYbp1p5",
        "outputId": "5e9de7ff-7c99-4f64-b883-e30f7325b072"
      },
      "execution_count": 5,
      "outputs": [
        {
          "output_type": "execute_result",
          "data": {
            "text/plain": [
              "FriedmanchisquareResult(statistic=9.578947368421062, pvalue=0.00831683351100441)"
            ]
          },
          "metadata": {},
          "execution_count": 5
        }
      ]
    },
    {
      "cell_type": "markdown",
      "source": [
        " p-value < 0.05 статистически значимых различия есть, препарат влияет на давление"
      ],
      "metadata": {
        "id": "P8nZsiwAqD3Z"
      }
    },
    {
      "cell_type": "markdown",
      "source": [
        "**3.** Сравните 1 и 2 е измерения, предполагая, что 3го измерения через 30 минут не было."
      ],
      "metadata": {
        "id": "hKGmtkfoqNf8"
      }
    },
    {
      "cell_type": "code",
      "source": [
        "\n",
        "x1=np.array([150, 160, 165, 145, 155])\n",
        "x2=np.array([140, 155, 150, 130, 135])\n",
        "\n",
        "alpha=0.05\n",
        "stats.wilcoxon(x1, x2)"
      ],
      "metadata": {
        "colab": {
          "base_uri": "https://localhost:8080/"
        },
        "id": "jDrXL-8AqVk7",
        "outputId": "9529c7c3-3217-4360-8752-09c7a37db2d9"
      },
      "execution_count": 6,
      "outputs": [
        {
          "output_type": "execute_result",
          "data": {
            "text/plain": [
              "WilcoxonResult(statistic=0.0, pvalue=0.0625)"
            ]
          },
          "metadata": {},
          "execution_count": 6
        }
      ]
    },
    {
      "cell_type": "markdown",
      "source": [
        " p-value > 0.05 статистически значимых различий нет, препарат не влияет на давление"
      ],
      "metadata": {
        "id": "ZZUMYfETqeNl"
      }
    },
    {
      "cell_type": "markdown",
      "source": [
        "**4.** Даны 3 группы учеников плавания.\n",
        "\n",
        "В 1 группе время на дистанцию 50 м составляют: 56, 60, 62, 55, 71, 67, 59, 58, 64, 67\n",
        "Вторая группа : 57, 58, 69, 48, 72, 70, 68, 71, 50, 53\n",
        "Третья группа: 57, 67, 49, 48, 47, 55, 66, 51, 54"
      ],
      "metadata": {
        "id": "DQfwH_2hqzQ9"
      }
    },
    {
      "cell_type": "code",
      "source": [
        "\n",
        "x1=np.array([56, 60, 62, 55, 71, 67, 59, 58, 64, 67])\n",
        "x2=np.array([57, 58, 69, 48, 72, 70, 68, 71, 50, 53])\n",
        "x3=np.array([57, 67, 49, 48, 47, 55, 66, 51, 54])\n",
        "alpha=0.05\n",
        "stats.kruskal(x1,x2,x3)"
      ],
      "metadata": {
        "colab": {
          "base_uri": "https://localhost:8080/"
        },
        "id": "YbcvW54Yq2qx",
        "outputId": "19d3f28b-ba1e-49c0-98ae-5082b82547d0"
      },
      "execution_count": 7,
      "outputs": [
        {
          "output_type": "execute_result",
          "data": {
            "text/plain": [
              "KruskalResult(statistic=5.465564058257224, pvalue=0.0650380998590494)"
            ]
          },
          "metadata": {},
          "execution_count": 7
        }
      ]
    },
    {
      "cell_type": "markdown",
      "source": [
        " p-value > 0.05 статистически значимых различий нет, время на дистанцию одинаковое"
      ],
      "metadata": {
        "id": "NnYILlBvq-2K"
      }
    },
    {
      "cell_type": "markdown",
      "source": [
        "**5.** Заявляется, что партия изготавливается со средним арифметическим 2,5 см. Проверить данную гипотезу, если известно, что размеры изделий подчинены нормальному закону распределения. Объем выборки 10, уровень статистической значимости 5% \n",
        "2.51, 2.35, 2.74, 2.56, 2.40, 2.36, 2.65, 2.7, 2.67, 2.34\n",
        "\n",
        "Соствим гипотезы\n",
        "\n",
        " H0: М = 2.5\n",
        "\n",
        " H1: М ≠ 2.5\n",
        "\n",
        "\n",
        "\n",
        "\n"
      ],
      "metadata": {
        "id": "nwnvQQPorMw8"
      }
    },
    {
      "cell_type": "code",
      "source": [
        "weights = np.array([2.51, 2.35, 2.74, 2.56, 2.40, 2.36, 2.65, 2.7, 2.67, 2.34])\n",
        "n = 10\n",
        "\n",
        "mean = weights.mean()\n",
        "std = weights.std(ddof=1)\n",
        "\n",
        "mean, std\n",
        "     "
      ],
      "metadata": {
        "colab": {
          "base_uri": "https://localhost:8080/"
        },
        "id": "QyIXt9worzg5",
        "outputId": "7afc5683-188c-4d67-a8c6-9dea6f46a7d1"
      },
      "execution_count": 8,
      "outputs": [
        {
          "output_type": "execute_result",
          "data": {
            "text/plain": [
              "(2.5279999999999996, 0.1572542173961923)"
            ]
          },
          "metadata": {},
          "execution_count": 8
        }
      ]
    },
    {
      "cell_type": "markdown",
      "source": [
        "Поскольку мы проверяем гипотезу относительно математического ожидания нормально распределённой случайной величины с неизвестной дисперсией, будем использовать статистику: \n",
        "\\begin{align}\n",
        "t = \\dfrac{\\overline{X} - a}{\\sigma_X / \\sqrt{n}}\n",
        "\\end{align}"
      ],
      "metadata": {
        "id": "GkcfYBEijjdi"
      }
    },
    {
      "cell_type": "code",
      "source": [
        "# t- наблюдаемое\n",
        "t = (mean-2.5)/(std/np.sqrt(n))\n",
        "t"
      ],
      "metadata": {
        "colab": {
          "base_uri": "https://localhost:8080/"
        },
        "id": "iAu7e_A9j09I",
        "outputId": "02a638de-b9e1-4be6-ae71-1485bb8ba387"
      },
      "execution_count": 9,
      "outputs": [
        {
          "output_type": "execute_result",
          "data": {
            "text/plain": [
              "0.5630613661802959"
            ]
          },
          "metadata": {},
          "execution_count": 9
        }
      ]
    },
    {
      "cell_type": "markdown",
      "source": [
        "Доверительная вероятность =0,05, число степеней свободы n-1=9\n",
        "по таблице Стьюдента находим критическое\n",
        "t1 = 0,064\n",
        "t2 = -0,064\n",
        "\n",
        "\\begin{align}\n",
        "\\ (-\\infty, -0.064) \\cup (0.064, \\infty).\n",
        "\\end{align}\n",
        "\n",
        "Значение t попадает в критическую область, H1 гипотезу \n",
        " не отвергаем"
      ],
      "metadata": {
        "id": "m0Fya_AoktX8"
      }
    }
  ]
}