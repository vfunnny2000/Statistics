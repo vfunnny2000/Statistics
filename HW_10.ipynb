{
  "nbformat": 4,
  "nbformat_minor": 0,
  "metadata": {
    "colab": {
      "provenance": [],
      "authorship_tag": "ABX9TyN98PVmT1kADnF82w4I6A27",
      "include_colab_link": true
    },
    "kernelspec": {
      "name": "python3",
      "display_name": "Python 3"
    },
    "language_info": {
      "name": "python"
    }
  },
  "cells": [
    {
      "cell_type": "markdown",
      "metadata": {
        "id": "view-in-github",
        "colab_type": "text"
      },
      "source": [
        "<a href=\"https://colab.research.google.com/github/vfunnny2000/Statistics/blob/main/HW_10.ipynb\" target=\"_parent\"><img src=\"https://colab.research.google.com/assets/colab-badge.svg\" alt=\"Open In Colab\"/></a>"
      ]
    },
    {
      "cell_type": "markdown",
      "source": [
        "**Задача:** Провести дисперсионный анализ для определения того, есть ли различия среднего роста среди взрослых футболистов, хоккеистов и штангистов. Даны значения роста в трех группах случайно выбранных спортсменов: Футболисты: 173, 175, 180, 178, 177, 185, 183, 182. Хоккеисты: 177, 179, 180, 188, 177, 172, 171, 184, 180. Штангисты: 172, 173, 169, 177, 166, 180, 178, 177, 172, 166, 170."
      ],
      "metadata": {
        "id": "rjya1ciH5Qcc"
      }
    },
    {
      "cell_type": "code",
      "execution_count": 4,
      "metadata": {
        "id": "bTEbnCnw5Pjm"
      },
      "outputs": [],
      "source": [
        "import numpy as np\n",
        "import pandas as pd\n",
        "from scipy import stats"
      ]
    },
    {
      "cell_type": "markdown",
      "source": [
        "Сформулируем нулевую гипотезу:\\begin{align}H0 : \\mu_1=\\mu_2=\\mu_3\\end{align}\n",
        " т.е. средний рост спортсмена не зависит от вида спорта, которым он занимается.\n",
        "\n",
        "\n",
        "Альтернативная гипотеза:\\begin{align}H1: \\mu_1\\neq\\mu_2\\neq\\mu_3\\end{align}\n"
      ],
      "metadata": {
        "id": "I-YSsE7-5kiD"
      }
    },
    {
      "cell_type": "code",
      "source": [
        "football=np.array([173, 175, 180, 178, 177, 185, 183, 182])\n",
        "hockey=np.array([177, 179, 180, 188, 177, 172, 171, 184, 180])\n",
        "weightlifting=np.array([172, 173, 169, 177, 166, 180, 178, 177, 172, 166, 170])"
      ],
      "metadata": {
        "id": "Z1hK-9tY6C3S"
      },
      "execution_count": 5,
      "outputs": []
    },
    {
      "cell_type": "code",
      "source": [
        "stats.f_oneway(football, hockey, weightlifting)"
      ],
      "metadata": {
        "colab": {
          "base_uri": "https://localhost:8080/"
        },
        "id": "6GtwZLBO6Gi8",
        "outputId": "28dd18bd-9528-4389-cfdc-10c1299ffca2"
      },
      "execution_count": 6,
      "outputs": [
        {
          "output_type": "execute_result",
          "data": {
            "text/plain": [
              "F_onewayResult(statistic=5.500053450812596, pvalue=0.010482206918698694)"
            ]
          },
          "metadata": {},
          "execution_count": 6
        }
      ]
    },
    {
      "cell_type": "markdown",
      "source": [
        "Получили значение p-value = 0.1048 на уровне статистической значимости\\begin{align}\\alpha=0.05\\end{align} отвергаем нулевую гипотезу.\n",
        " _**ВЫВОД:**_ средний рост футболистов, хоккеистов и штангистов различен."
      ],
      "metadata": {
        "id": "lLU5U47K6M2i"
      }
    },
    {
      "cell_type": "markdown",
      "source": [
        "\n",
        "\n",
        "---\n",
        "\n",
        "\n",
        "\n",
        "---\n",
        "\n"
      ],
      "metadata": {
        "id": "0NCgVDvy_p6R"
      }
    },
    {
      "cell_type": "markdown",
      "source": [
        " **Another variant**"
      ],
      "metadata": {
        "id": "fE9uBL1565Gd"
      }
    },
    {
      "cell_type": "code",
      "source": [],
      "metadata": {
        "id": "ZoJI-I5XDmEq"
      },
      "execution_count": null,
      "outputs": []
    },
    {
      "cell_type": "code",
      "source": [
        "fp = np.array([173, 175, 180, 178, 177, 185, 183, 182], dtype=np.float64)\n",
        "hp = np.array([177, 179, 180, 188, 177, 172, 171, 184, 180], dtype=np.float64)\n",
        "lf = np.array([172, 173, 169, 177, 166, 180, 178, 177, 172, 166, 170], dtype=np.float64)\n",
        "\n",
        "n1 = fp.shape[0]\n",
        "n2 = hp.shape[0]\n",
        "n3 = lf.shape[0]"
      ],
      "metadata": {
        "id": "ERM0J3sE7mX5"
      },
      "execution_count": 8,
      "outputs": []
    },
    {
      "cell_type": "code",
      "source": [
        "fp_mean = fp.mean()\n",
        "hp_mean = hp.mean()\n",
        "lf_mean = lf.mean()\n",
        "\n",
        "fp_mean, hp_mean, lf_mean"
      ],
      "metadata": {
        "colab": {
          "base_uri": "https://localhost:8080/"
        },
        "id": "53W-4yL57sS9",
        "outputId": "b6d01e86-8b70-4243-9f6b-21a2cec00800"
      },
      "execution_count": 9,
      "outputs": [
        {
          "output_type": "execute_result",
          "data": {
            "text/plain": [
              "(179.125, 178.66666666666666, 172.72727272727272)"
            ]
          },
          "metadata": {},
          "execution_count": 9
        }
      ]
    },
    {
      "cell_type": "markdown",
      "source": [
        "Видно, что средние роста хокеистов и футболистов отличаются не сильно. Проверим статистическую значимость всех отличий"
      ],
      "metadata": {
        "id": "zNNNCx_L7wp8"
      }
    },
    {
      "cell_type": "code",
      "source": [
        "y = np.concatenate([fp, hp, lf])\n",
        "print(y)"
      ],
      "metadata": {
        "colab": {
          "base_uri": "https://localhost:8080/"
        },
        "id": "TFh3pxGh8DxU",
        "outputId": "4b487b03-63a7-415a-ee84-543cc54ba86d"
      },
      "execution_count": 10,
      "outputs": [
        {
          "output_type": "stream",
          "name": "stdout",
          "text": [
            "[173. 175. 180. 178. 177. 185. 183. 182. 177. 179. 180. 188. 177. 172.\n",
            " 171. 184. 180. 172. 173. 169. 177. 166. 180. 178. 177. 172. 166. 170.]\n"
          ]
        }
      ]
    },
    {
      "cell_type": "code",
      "source": [
        "y_mean = y.mean()\n",
        "y_mean"
      ],
      "metadata": {
        "colab": {
          "base_uri": "https://localhost:8080/"
        },
        "id": "lZ3cCb458JgM",
        "outputId": "1c439e68-a003-4e09-b8dc-44ad6c59a3df"
      },
      "execution_count": 11,
      "outputs": [
        {
          "output_type": "execute_result",
          "data": {
            "text/plain": [
              "176.46428571428572"
            ]
          },
          "metadata": {},
          "execution_count": 11
        }
      ]
    },
    {
      "cell_type": "markdown",
      "source": [
        "Найдём значения: \\begin{align}S_F ; S_{res}\\end{align}"
      ],
      "metadata": {
        "id": "nvA6xeSg8uJa"
      }
    },
    {
      "cell_type": "code",
      "source": [
        "S2_F = n1 * (fp_mean - y_mean) ** 2 + n2 * (hp_mean - y_mean) ** 2 + n3 * (lf_mean - y_mean) ** 2\n",
        "S2_res = ((fp - fp_mean) ** 2).sum() + ((hp - hp_mean) ** 2).sum() + ((lf - lf_mean) ** 2).sum()\n",
        "S2_F, S2_res"
      ],
      "metadata": {
        "colab": {
          "base_uri": "https://localhost:8080/"
        },
        "id": "bn01ovBI9I8l",
        "outputId": "d2a9c2be-f6b3-4c5a-844f-1415ea032961"
      },
      "execution_count": 12,
      "outputs": [
        {
          "output_type": "execute_result",
          "data": {
            "text/plain": [
              "(253.9074675324678, 577.0568181818182)"
            ]
          },
          "metadata": {},
          "execution_count": 12
        }
      ]
    },
    {
      "cell_type": "markdown",
      "source": [
        "Проверим равенство: \\begin{align}S^2 = S_F^2 + S_{res}^2\\end{align}"
      ],
      "metadata": {
        "id": "lR7jmViH9OXv"
      }
    },
    {
      "cell_type": "code",
      "source": [
        "S2_F + S2_res"
      ],
      "metadata": {
        "colab": {
          "base_uri": "https://localhost:8080/"
        },
        "id": "sYQyv2oY9c5X",
        "outputId": "0bfc2fac-a451-4023-8802-027db12438e1"
      },
      "execution_count": 13,
      "outputs": [
        {
          "output_type": "execute_result",
          "data": {
            "text/plain": [
              "830.964285714286"
            ]
          },
          "metadata": {},
          "execution_count": 13
        }
      ]
    },
    {
      "cell_type": "markdown",
      "source": [
        "Запишем оценки дисперсий:"
      ],
      "metadata": {
        "id": "sKkwsrhy9ipX"
      }
    },
    {
      "cell_type": "code",
      "source": [
        "k = 3\n",
        "n = n1 + n2 + n3\n",
        "\n",
        "k1 = k - 1\n",
        "k2 = n - k\n",
        "\n",
        "sigma2_F = S2_F / k1\n",
        "sigma2_res = S2_res / k2\n",
        "\n",
        "sigma2_F, sigma2_res"
      ],
      "metadata": {
        "colab": {
          "base_uri": "https://localhost:8080/"
        },
        "id": "ZaDs0T_C9iVK",
        "outputId": "802045d7-4434-405d-f682-3145b86c6723"
      },
      "execution_count": 14,
      "outputs": [
        {
          "output_type": "execute_result",
          "data": {
            "text/plain": [
              "(126.9537337662339, 23.08227272727273)"
            ]
          },
          "metadata": {},
          "execution_count": 14
        }
      ]
    },
    {
      "cell_type": "markdown",
      "source": [
        "Значение статистики **T**:"
      ],
      "metadata": {
        "id": "GYlyD-pQ9szD"
      }
    },
    {
      "cell_type": "code",
      "source": [
        "T = sigma2_F / sigma2_res\n",
        "T"
      ],
      "metadata": {
        "colab": {
          "base_uri": "https://localhost:8080/"
        },
        "id": "OBbB6qkP9zu1",
        "outputId": "b33b5156-4881-493b-9b98-4251bcb80e0f"
      },
      "execution_count": 15,
      "outputs": [
        {
          "output_type": "execute_result",
          "data": {
            "text/plain": [
              "5.500053450812598"
            ]
          },
          "metadata": {},
          "execution_count": 15
        }
      ]
    },
    {
      "cell_type": "markdown",
      "source": [
        "Зафиксируем уровень значимости\\begin{align}\\alpha = 0.05\\end{align}\n",
        "Для него найдём критическое значение \\begin{align}F_{crit}\\end{align}"
      ],
      "metadata": {
        "id": "_fmeS4xO95Bv"
      }
    },
    {
      "cell_type": "code",
      "source": [
        "alpha = 0.05\n",
        "\n",
        "F_crit = stats.f.ppf(1 - alpha, k1, k2)\n",
        "F_crit"
      ],
      "metadata": {
        "colab": {
          "base_uri": "https://localhost:8080/"
        },
        "id": "rTfSLMOY-Nwj",
        "outputId": "09951e6b-a82d-4b29-d67c-4f0eeb65d62d"
      },
      "execution_count": 16,
      "outputs": [
        {
          "output_type": "execute_result",
          "data": {
            "text/plain": [
              "3.3851899614491687"
            ]
          },
          "metadata": {},
          "execution_count": 16
        }
      ]
    },
    {
      "cell_type": "markdown",
      "source": [
        "\\begin{align}T > F_{crit}\\end{align}поэтому заключаем, что отличия среднего роста футболистов, хокеистов и штангистов действительно являются статистически значимыми"
      ],
      "metadata": {
        "id": "7Q_4Lu63-c1n"
      }
    },
    {
      "cell_type": "markdown",
      "source": [
        "\n",
        "\n",
        "---\n",
        "\n",
        "\n",
        "\n",
        "---\n",
        "\n",
        "\n",
        "\n",
        "---\n",
        "\n",
        "🔔  **_хотела еще один вариант, но совсем запуталась_** 😠"
      ],
      "metadata": {
        "id": "aWC9bxXzEoUM"
      }
    },
    {
      "cell_type": "code",
      "source": [
        "# football=np.array([173, 175, 180, 178, 177, 185, 183, 182])\n",
        "# hockey=np.array([177, 179, 180, 188, 177, 172, 171, 184, 180])\n",
        "# weightlifting=np.array([172, 173, 169, 177, 166, 180, 178, 177, 172, 166, 170])"
      ],
      "metadata": {
        "id": "bKFdVOkKDnr2"
      },
      "execution_count": 18,
      "outputs": []
    },
    {
      "cell_type": "markdown",
      "source": [],
      "metadata": {
        "id": "zG0ugyt1HFZZ"
      }
    },
    {
      "cell_type": "code",
      "source": [
        "# print(stats.shapiro(football))"
      ],
      "metadata": {
        "colab": {
          "base_uri": "https://localhost:8080/"
        },
        "id": "T1b5ulXrDoGh",
        "outputId": "dd42582b-2288-4e93-e2a7-a1a0823fe700"
      },
      "execution_count": 19,
      "outputs": [
        {
          "output_type": "stream",
          "name": "stdout",
          "text": [
            "ShapiroResult(statistic=0.9775081276893616, pvalue=0.9495397210121155)\n"
          ]
        }
      ]
    },
    {
      "cell_type": "markdown",
      "source": [
        "p-value > alpha => распределение нормальное "
      ],
      "metadata": {
        "id": "JyiGC9DnD85q"
      }
    },
    {
      "cell_type": "code",
      "source": [
        "# print(stats.shapiro(hockey))"
      ],
      "metadata": {
        "colab": {
          "base_uri": "https://localhost:8080/"
        },
        "id": "RZr_a_7BD4td",
        "outputId": "7b2a02a2-b499-46ea-8ff4-2d58639e9ec3"
      },
      "execution_count": 20,
      "outputs": [
        {
          "output_type": "stream",
          "name": "stdout",
          "text": [
            "ShapiroResult(statistic=0.9579195976257324, pvalue=0.7763133645057678)\n"
          ]
        }
      ]
    },
    {
      "cell_type": "markdown",
      "source": [
        "p-value > alpha => распределение нормальное "
      ],
      "metadata": {
        "id": "J0ExKVfiEM6H"
      }
    },
    {
      "cell_type": "code",
      "source": [
        "# print(stats.shapiro(weightlifting))"
      ],
      "metadata": {
        "colab": {
          "base_uri": "https://localhost:8080/"
        },
        "id": "YRea2-QsEHJR",
        "outputId": "d7c8336d-21c8-444e-aca0-82bd4492f26c"
      },
      "execution_count": 22,
      "outputs": [
        {
          "output_type": "stream",
          "name": "stdout",
          "text": [
            "ShapiroResult(statistic=0.93868088722229, pvalue=0.5051169991493225)\n"
          ]
        }
      ]
    },
    {
      "cell_type": "markdown",
      "source": [
        "p-value < alpha => распределение не нормальное"
      ],
      "metadata": {
        "id": "or_4YJ3jEa0W"
      }
    },
    {
      "cell_type": "code",
      "source": [
        "# import scipy\n",
        "# scipy.stats.kruskal"
      ],
      "metadata": {
        "colab": {
          "base_uri": "https://localhost:8080/"
        },
        "id": "ipqNXlOBFBfM",
        "outputId": "3e2989e5-7ee7-40fb-ec2b-207c25996335"
      },
      "execution_count": 24,
      "outputs": [
        {
          "output_type": "execute_result",
          "data": {
            "text/plain": [
              "<function scipy.stats.stats.kruskal(*args, nan_policy='propagate')>"
            ]
          },
          "metadata": {},
          "execution_count": 24
        }
      ]
    }
  ]
}